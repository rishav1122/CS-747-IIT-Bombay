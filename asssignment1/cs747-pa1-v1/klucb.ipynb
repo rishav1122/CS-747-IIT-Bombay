{
 "cells": [
  {
   "cell_type": "code",
   "execution_count": 12,
   "metadata": {},
   "outputs": [],
   "source": [
    "import numpy as np\n",
    "\n",
    "file1 = open(\"outputklucb9.txt\", \"w+\")\n",
    "# file2 = open(\"outputklucb4.txt\", \"w+\")\n",
    "\n",
    "algoname = \"kl-ucb-t1\"\n",
    "\n",
    "def KL_div(p, q):\n",
    "    if p==q:\n",
    "        return 0\n",
    "    if p == 1:\n",
    "        return p*np.log(p/q)\n",
    "    elif p == 0:\n",
    "        return (1-p)*np.log((1-p)/(1-q))\n",
    "    else:\n",
    "        return p*np.log(p/q) + (1-p)*np.log((1-p)/(1-q))\n",
    "\n",
    "def algoklucb(meanarray,tosstimes,totaltoss):\n",
    "\tc=3\n",
    "\tlimitvalue = np.log(totaltoss) + c *np.log(np.log(totaltoss))\n",
    "# \tprint(\"limit\",limitva/lue)\n",
    "\tmaxq = 0\n",
    "\tbandit =0\n",
    "\tfor i in range(len(meanarray)):\n",
    "\t\tp_a = meanarray[i]\n",
    "# \t\tprint(p_a)\n",
    "\t\tif p_a==1:\n",
    "# \t\t\tprint(\"nooo\")\n",
    "\t\t\treturn i\n",
    "\t\t\t\n",
    "\t\tque =  np.arange(p_a, 1, 0.01)\n",
    "\t\tfor q in que:\n",
    "\t\t\tvalue = tosstimes[i] * KL_div(p_a,q)\n",
    "\t\t\tif value > limitvalue:\n",
    "# \t\t\t\tprint(\"yeahhh\")\n",
    "\t\t\t\tbreak\n",
    "\t\t\ttempvalue=value\n",
    "\t\t\tq0 = q\n",
    "# \t\tprint(\"value\",tempvalue)\n",
    "# \t\tprint(\"q\",q0)\n",
    "\t\tif q0>maxq:\n",
    "# \t\t\tprint(\"yess\")\n",
    "\t\t\tmaxq=q0\n",
    "\t\t\tbandit=i\n",
    "\t\t\n",
    "# \tprint(\"bandit\",bandit)\n",
    "\treturn bandit\n"
   ]
  },
  {
   "cell_type": "code",
   "execution_count": 11,
   "metadata": {},
   "outputs": [
    {
     "name": "stdout",
     "output_type": "stream",
     "text": [
      "Untitled.ipynb     outputFormat.txt   outputepsilon2.txt\r\n",
      "\u001b[34minstances\u001b[m\u001b[m          outputepsilon1.txt \u001b[34msubmission\u001b[m\u001b[m\r\n"
     ]
    }
   ],
   "source": [
    "!ls"
   ]
  },
  {
   "cell_type": "code",
   "execution_count": 13,
   "metadata": {},
   "outputs": [
    {
     "name": "stderr",
     "output_type": "stream",
     "text": [
      "/opt/anaconda3/lib/python3.7/site-packages/ipykernel_launcher.py:16: RuntimeWarning: divide by zero encountered in double_scalars\n",
      "  app.launch_new_instance()\n",
      "/opt/anaconda3/lib/python3.7/site-packages/ipykernel_launcher.py:16: RuntimeWarning: invalid value encountered in log\n",
      "  app.launch_new_instance()\n"
     ]
    },
    {
     "name": "stdout",
     "output_type": "stream",
     "text": [
      "../instances/instances-task1/i-3.txt, kl-ucb-t1, 32, 0.02, 2, 0, 25600, 195.0, 0\n",
      "../instances/instances-task1/i-3.txt, kl-ucb-t1, 33, 0.02, 2, 0, 25600, 269.0, 0\n",
      "../instances/instances-task1/i-3.txt, kl-ucb-t1, 34, 0.02, 2, 0, 25600, 193.0, 0\n",
      "../instances/instances-task1/i-3.txt, kl-ucb-t1, 35, 0.02, 2, 0, 25600, 223.0, 0\n",
      "../instances/instances-task1/i-3.txt, kl-ucb-t1, 36, 0.02, 2, 0, 25600, 257.0, 0\n",
      "../instances/instances-task1/i-3.txt, kl-ucb-t1, 37, 0.02, 2, 0, 25600, 243.0, 0\n",
      "../instances/instances-task1/i-3.txt, kl-ucb-t1, 38, 0.02, 2, 0, 25600, 261.0, 0\n",
      "../instances/instances-task1/i-3.txt, kl-ucb-t1, 39, 0.02, 2, 0, 25600, 243.0, 0\n",
      "../instances/instances-task1/i-3.txt, kl-ucb-t1, 40, 0.02, 2, 0, 25600, 269.0, 0\n",
      "../instances/instances-task1/i-3.txt, kl-ucb-t1, 41, 0.02, 2, 0, 25600, 214.0, 0\n",
      "../instances/instances-task1/i-3.txt, kl-ucb-t1, 42, 0.02, 2, 0, 25600, 179.0, 0\n",
      "../instances/instances-task1/i-3.txt, kl-ucb-t1, 43, 0.02, 2, 0, 25600, 290.0, 0\n",
      "../instances/instances-task1/i-3.txt, kl-ucb-t1, 44, 0.02, 2, 0, 25600, 262.0, 0\n",
      "../instances/instances-task1/i-3.txt, kl-ucb-t1, 45, 0.02, 2, 0, 25600, 269.0, 0\n",
      "../instances/instances-task1/i-3.txt, kl-ucb-t1, 46, 0.02, 2, 0, 25600, 257.0, 0\n",
      "../instances/instances-task1/i-3.txt, kl-ucb-t1, 47, 0.02, 2, 0, 25600, 235.0, 0\n",
      "../instances/instances-task1/i-3.txt, kl-ucb-t1, 48, 0.02, 2, 0, 25600, 297.0, 0\n",
      "../instances/instances-task1/i-3.txt, kl-ucb-t1, 49, 0.02, 2, 0, 25600, 273.0, 0\n"
     ]
    }
   ],
   "source": [
    "epsilon = 0.02\n",
    "horizons = [25600]\n",
    "names = [\"instances/instances-task1/i-3.txt\"]\n",
    "for horizon in horizons:\n",
    "    for instancename in names:\n",
    "        for rseed in range(32,50):\n",
    "            import random\n",
    "            import os\n",
    "            f = open(instancename, \"r\")\n",
    "            # print((f.readline())\n",
    "            s=[]\n",
    "            for x in f:\n",
    "#               print((x))\n",
    "              s.append(float(x))\n",
    "    \n",
    "            # \n",
    "\n",
    "            numCoins = len(s)\n",
    "            # numCoins = 3\n",
    "            # p = [0.6, 0.3, 0.8]\n",
    "            p=s\n",
    "\n",
    "            totalTosses = horizon\n",
    "\n",
    "            random.seed(rseed)\n",
    "\n",
    "            totalHeads = 0\n",
    "\n",
    "\n",
    "            sumall=0\n",
    "            tosses =np.zeros(numCoins)\n",
    "            \n",
    "\n",
    "            means = np.zeros(numCoins)\n",
    "            heads = np.zeros(numCoins)\n",
    "\n",
    "\n",
    "\n",
    "            for i in range(0, numCoins):\n",
    "\n",
    "            #     os.system('clear')\n",
    "\n",
    "                coin = i \n",
    "                sumall+=p[coin]\n",
    "                # coin -= 1\n",
    "                outcome = \"t\"\n",
    "                if(random.uniform(0, 1.0) < p[coin]):\n",
    "                    outcome = \"h\"\n",
    "                    totalHeads += 1\n",
    "                    heads[coin] +=1\n",
    "#                 print(\"outcome\",outcome)\n",
    "#                 outcomes[coin][tosses[coin]] = outcome\n",
    "                tosses[coin] += 1\n",
    "                means[coin] = heads[coin]/tosses[coin]\n",
    "#                 tossesFinished += 1\n",
    "#                 print(\"coin\",coin)\n",
    "\n",
    "\n",
    "\n",
    "\n",
    "\n",
    "            for i in range(numCoins, totalTosses):\n",
    "\n",
    "\n",
    "\n",
    "                coin = algoklucb(means,tosses,i+1)   #{would be from 0 to n-1}\n",
    "                sumall+=p[coin]\n",
    "                # coin -= 1\n",
    "                outcome = \"t\"\n",
    "                if(random.uniform(0, 1.0) < p[coin]):\n",
    "                    outcome = \"h\"\n",
    "                    totalHeads += 1\n",
    "                    heads[coin] +=1\n",
    "#                 print(\"outcome\",outcome)\n",
    "#                 outcomes[coin][tosses[coin]] = outcome\n",
    "                tosses[coin] += 1\n",
    "                means[coin] = heads[coin]/tosses[coin]\n",
    "#                 tossesFinished += 1\n",
    "#                 print(\"coin\",coin)\n",
    "\n",
    "\n",
    "            # print( \"Total heads = \" + str(totalHeads))\n",
    "            REW1 = max(p)*totalTosses - sumall\n",
    "            REW1 = np.around(REW1,3)\n",
    "            REW2 =max(p)*totalTosses - totalHeads\n",
    "#             REW2 = np.around(REW,3)\n",
    "            # print(REW)\n",
    "#             wr1 = \"../\"+instancename+\", \"+algoname+\", \"+str(rseed)+', 0.02'+', 2'+', 0'+\", \"+str(horizon)+\", \"+str(REW1)+', 0'+\"\\n\"\n",
    "#             file1.write(wr1)\n",
    "#             print(wr1\n",
    "            wri2 = \"../\"+instancename+\", \"+algoname+\", \"+str(rseed)+', 0.02'+', 2'+', 0'+\", \"+str(horizon)+\", \"+str(REW2)+', 0'\n",
    "            wr2 = wri2+\"\\n\"\n",
    "            file1.write(wr2)\n",
    "            print(wri2)"
   ]
  },
  {
   "cell_type": "code",
   "execution_count": 10,
   "metadata": {},
   "outputs": [],
   "source": [
    "file2.close()"
   ]
  },
  {
   "cell_type": "code",
   "execution_count": 11,
   "metadata": {},
   "outputs": [],
   "source": [
    "file1.close()"
   ]
  },
  {
   "cell_type": "code",
   "execution_count": 1,
   "metadata": {},
   "outputs": [
    {
     "data": {
      "text/plain": [
       "1"
      ]
     },
     "execution_count": 1,
     "metadata": {},
     "output_type": "execute_result"
    }
   ],
   "source": [
    "    for i in range(numCoins, totalTosses):\n",
    "        coin = algoklucb(means,tosses,i+1)   #{would be from 0 to n-1}\n",
    "        sumall+=p[coin]\n",
    "        # coin -= 1\n",
    "        outcome = \"t\"\n",
    "        if(random.uniform(0, 1.0) < p[coin]):\n",
    "            outcome = \"h\"\n",
    "            totalHeads += 1\n",
    "            heads[coin] +=1\n",
    "    #                 print(\"outcome\",outcome)\n",
    "    #                 outcomes[coin][tosses[coin]] = outcome\n",
    "        tosses[coin] += 1\n",
    "        means[coin] = heads[coin]/tosses[coin]\n",
    "    #                 tossesFinished += 1\n",
    "    #                 print(\"coin\",coin)"
   ]
  },
  {
   "cell_type": "code",
   "execution_count": null,
   "metadata": {},
   "outputs": [],
   "source": []
  }
 ],
 "metadata": {
  "kernelspec": {
   "display_name": "Python 3",
   "language": "python",
   "name": "python3"
  },
  "language_info": {
   "codemirror_mode": {
    "name": "ipython",
    "version": 3
   },
   "file_extension": ".py",
   "mimetype": "text/x-python",
   "name": "python",
   "nbconvert_exporter": "python",
   "pygments_lexer": "ipython3",
   "version": "3.7.4"
  }
 },
 "nbformat": 4,
 "nbformat_minor": 2
}
